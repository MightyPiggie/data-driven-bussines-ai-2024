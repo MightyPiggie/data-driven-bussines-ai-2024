{
 "cells": [
  {
   "cell_type": "markdown",
   "metadata": {},
   "source": [
    "We hebben alle `nvt` en `?` kolomen verwijderd. Dit hebben we gedaan omdat er tegen ons gezegd is dat deze niet interresand zijn. Daarnaast hebben we ook de regels met prioriteit `9` verwijderd. Dit komt omdat deze regels adimistratief zijn en geen functie herstel bevatten.\n",
    "\n",
    "Vervolgens hebben we nog een aantal kolomen ook nog verwijderd, die worden hieronder verder toegeligt:\n",
    "\n",
    "`stm_pplg_van` en `stm_pplg_naar`. Wij hebben hier niks aan. Er worden namelijk zowel getallen als strings door elkaar gebruikt. Dit is niet handig voor zo goed als elke model. Daarom hebben we deze kolomen verwijderd.\n",
    "\n",
    "Ook hebben wij de kolommen `stm_equipm_omschr_gst`, `stm_equipm_omschr_mld`, `stm_sap_meldtekst`, `stm_sap_meldtekst_lang`, `stm_oorz_tkst`, `stm_oorz_tekst_kort`, `stm_schade_verhaalb_jn` verwijderd. Dit komt omdat deze beschrijvingen zijn en dus niet bruikbaar zijn voor een model.\n",
    "\n",
    "Daarnaast hebben we ook nog de volgende kolommen verwijderd: `stm_equipm_nr_gst`,  `stm_equipm_soort_gst`, `#stm_sap_meldnr`, `stm_equipm_nr_mld`, `stm_equipm_soort_mld`. Dit komt omdat deze kolommen niet relevant zijn voor ons model omdat ze geen informatie toevoegen.\n",
    "\n",
    "`stm_vl_post` is verwijderd omdat hier veel values missen en de *informatie al hebben in andere kolommen* (niet excact dezelfde informatie maar `stm_vl_post` komt wel in de buurt).\n",
    "\n",
    "Wij hebben de kolomen  `stm_fh_tijd`, `stm_fh_dd` ook verwijderd omdat je hiermee anders de target variabele kan voorspellen doormiddel van begin tijd - funtie herstel tijd = duur. Dit is niet de bedoeling. **(Mogelijk niet waar?)**\n",
    "\n",
    "Wij hebben als feuture variabelen de volgende gekozen: `stm_geo_mld`, `stm_prioriteit`, `stm_oorz_code`, `stm_contractgeb_gst`\n",
    "\n",
    "Over de volgende feuture variabelen twijfelen we nog of ze nuttig zijn: `stm_mon_nr`, `stm_sap_meld_ddt`, `stm_km_van_mld`, `stm_km_tot_mld`. Hierom gaan we aan deze extra aandacht besteden door ze 1 voor 1 eruit te halen en te kijken of ze het model beinvloeden.\n",
    "\n",
    "Onze target variabele is `stm_fh_duur` **(mogelijk ook niet waar?)**"
   ]
  },
  {
   "cell_type": "code",
   "execution_count": 12,
   "metadata": {},
   "outputs": [
    {
     "name": "stderr",
     "output_type": "stream",
     "text": [
      "/tmp/ipykernel_701411/4071374325.py:43: DtypeWarning: Columns (0,8,11,12,13,17,20,21,26,37,49) have mixed types. Specify dtype option on import or set low_memory=False.\n",
      "  df = pd.read_csv('dataset-prorail-clean-2.csv')\n"
     ]
    },
    {
     "data": {
      "text/plain": [
       "Index                               3136056\n",
       "index2                             14369855\n",
       "stm_mon_nr                          3136056\n",
       "stm_sap_meld_ddt                    3136056\n",
       "stm_geo_mld                         3136056\n",
       "stm_km_van_mld                      3136056\n",
       "stm_km_tot_mld                      3136056\n",
       "stm_prioriteit                      3136056\n",
       "stm_aanngeb_ddt                    26625552\n",
       "stm_oh_pg_gst                      20384364\n",
       "stm_geo_gst                        19860596\n",
       "stm_km_van_gst                     21030800\n",
       "stm_km_tot_gst                     20781448\n",
       "stm_oorz_groep                     21326757\n",
       "stm_oorz_code                       3136056\n",
       "stm_fh_ddt                         25783980\n",
       "stm_fh_status                      19931884\n",
       "stm_sap_storeind_ddt               24710928\n",
       "stm_tao_indicator                  19600350\n",
       "stm_tao_indicator_vorige           14004582\n",
       "stm_tao_soort_mutatie              14118452\n",
       "stm_tao_telling_mutatie            19601930\n",
       "stm_tao_beinvloedbaar_indicator    19693807\n",
       "stm_sap_melddatum                  23128413\n",
       "stm_sap_meldtijd                   22344105\n",
       "stm_contractgeb_mld                19223599\n",
       "stm_techn_mld                       3136056\n",
       "stm_contractgeb_gst                 3136056\n",
       "stm_techn_gst                      19600350\n",
       "stm_aanngeb_dd                     23105922\n",
       "stm_aanngeb_tijd                   22344243\n",
       "stm_aanntpl_dd                     21890733\n",
       "stm_aanntpl_tijd                   22344399\n",
       "stm_progfh_in_datum                20439186\n",
       "stm_progfh_in_tijd                 22343931\n",
       "stm_progfh_in_invoer_dat           20401394\n",
       "stm_progfh_in_invoer_tijd          22344399\n",
       "stm_progfh_in_duur                 20471871\n",
       "stm_progfh_gw_tijd                 22344399\n",
       "stm_progfh_gw_teller               20384371\n",
       "stm_fh_duur                         3136056\n",
       "stm_sap_storeinddatum              21670413\n",
       "stm_sap_storeindtijd               22343679\n",
       "stm_dstrglp_van                    14358258\n",
       "stm_dstrglp_naar                   14183519\n",
       "dtype: int64"
      ]
     },
     "execution_count": 12,
     "metadata": {},
     "output_type": "execute_result"
    }
   ],
   "source": [
    "import pandas as pd\n",
    "from sklearn.preprocessing import LabelEncoder\n",
    "\n",
    "def clean_data(df):\n",
    "    # Drop duplicate rows in columns: '#stm_sap_meldnr', 'stm_mon_nr' and 58 other columns\n",
    "    df = df.drop_duplicates(subset=['#stm_sap_meldnr', 'stm_mon_nr', 'stm_vl_post', 'stm_sap_meld_ddt', 'stm_sap_meldtekst_lang', 'stm_sap_meldtekst', 'stm_geo_mld', 'stm_equipm_nr_mld', 'stm_equipm_soort_mld', 'stm_equipm_omschr_mld', 'stm_km_van_mld', 'stm_km_tot_mld', 'stm_prioriteit', 'stm_aanngeb_ddt', 'stm_oh_pg_gst', 'stm_geo_gst', 'stm_equipm_nr_gst', 'stm_equipm_soort_gst', 'stm_equipm_omschr_gst', 'stm_km_van_gst', 'stm_km_tot_gst', 'stm_oorz_groep', 'stm_oorz_code', 'stm_oorz_tkst', 'stm_fh_ddt', 'stm_fh_status', 'stm_sap_storeind_ddt', 'stm_tao_indicator', 'stm_tao_indicator_vorige', 'stm_tao_soort_mutatie', 'stm_tao_telling_mutatie', 'stm_tao_beinvloedbaar_indicator', 'stm_sap_melddatum', 'stm_sap_meldtijd', 'stm_contractgeb_mld', 'stm_techn_mld', 'stm_contractgeb_gst', 'stm_techn_gst', 'stm_aanngeb_dd', 'stm_aanngeb_tijd', 'stm_aanntpl_dd', 'stm_aanntpl_tijd', 'stm_progfh_in_datum', 'stm_progfh_in_tijd', 'stm_progfh_in_invoer_dat', 'stm_progfh_in_invoer_tijd', 'stm_progfh_in_duur', 'stm_progfh_gw_tijd', 'stm_progfh_gw_teller', 'stm_fh_dd', 'stm_fh_tijd', 'stm_fh_duur', 'stm_sap_storeinddatum', 'stm_sap_storeindtijd', 'stm_oorz_tekst_kort', 'stm_schade_verhaalb_jn', 'stm_pplg_van', 'stm_pplg_naar', 'stm_dstrglp_van', 'stm_dstrglp_naar'])\n",
    "    \n",
    "    # Drop columns: 'stm_pplg_van', 'stm_pplg_naar' and 7 other columns\n",
    "    df = df.drop(columns=['stm_pplg_van', 'stm_pplg_naar', 'stm_equipm_omschr_mld', 'stm_sap_meldtekst_lang', 'stm_sap_meldtekst', 'stm_equipm_omschr_gst', 'stm_oorz_tkst', 'stm_oorz_tekst_kort', 'stm_schade_verhaalb_jn', 'stm_equipm_nr_gst', 'stm_equipm_soort_gst', '#stm_sap_meldnr', 'stm_vl_post', 'stm_equipm_nr_mld', 'stm_equipm_soort_mld', 'stm_fh_tijd', 'stm_fh_dd'])\n",
    "    \n",
    "    # Drop first row\n",
    "    df = df.iloc[1:, :]\n",
    "    \n",
    "    # Filter rows based on column: 'stm_prioriteit'\n",
    "    df = df[df['stm_prioriteit'].isin([\"1.0\", \"2.0\", \"4.0\", \"5.0\", \"8.0\"])]\n",
    "    \n",
    "    # Filter rows based on column: 'stm_fh_duur'\n",
    "    df = df[df['stm_fh_duur'].notna()]\n",
    "    \n",
    "    # Filter not valid integer values in column: 'stm_fh_duur'\n",
    "    df['stm_fh_duur'] = pd.to_numeric(df['stm_fh_duur'], errors=\"coerce\")\n",
    "    df.dropna(subset=['stm_fh_duur'], inplace=True)\n",
    "    \n",
    "    # Remove values with a not realistic duration\n",
    "    df = df[df['stm_fh_duur'] < 43200] # 1 month\n",
    "    \n",
    "    # topPerc = df['stm_fh_duur'].quantile(0.99)\n",
    "    # df = df[df['stm_fh_duur'] < topPerc]\n",
    "    \n",
    "    # Convert columns to numeric and drop the rows with NaN values\n",
    "    df['stm_contractgeb_gst'] = pd.to_numeric(df['stm_contractgeb_gst'], errors=\"coerce\")\n",
    "    df.dropna(subset=['stm_contractgeb_gst'], inplace=True)\n",
    "    \n",
    "    # Convert columns to numeric with the label encoder and drop the rows with NaN values\n",
    "    le = LabelEncoder()\n",
    "    df['stm_techn_mld'] = le.fit_transform(df['stm_techn_mld'])\n",
    "    df.dropna(subset=['stm_techn_mld'], inplace=True)\n",
    "    \n",
    "    df = df.astype({'stm_geo_mld':'float', 'stm_prioriteit':'float', 'stm_oorz_code':'float', 'stm_contractgeb_gst':'float', 'stm_techn_mld':'int', 'stm_mon_nr':'float', 'stm_sap_meld_ddt':'datetime64[ns]', 'stm_km_van_mld':'float', 'stm_km_tot_mld':'float'})\n",
    "    # df = df.astype({'stm_geo_mld':'int', 'stm_prioriteit':'int', 'stm_oorz_code':'int', 'stm_contractgeb_gst':'int', 'stm_mon_nr':'int', 'stm_sap_meld_ddt':'datetime64[ns]'})\n",
    "    return df\n",
    "\n",
    "df = pd.read_csv('dataset-prorail-clean-2.csv')\n",
    "\n",
    "df = clean_data(df.copy())"
   ]
  },
  {
   "cell_type": "code",
   "execution_count": null,
   "metadata": {},
   "outputs": [],
   "source": []
  }
 ],
 "metadata": {
  "kernelspec": {
   "display_name": "Python 3",
   "language": "python",
   "name": "python3"
  },
  "language_info": {
   "codemirror_mode": {
    "name": "ipython",
    "version": 3
   },
   "file_extension": ".py",
   "mimetype": "text/x-python",
   "name": "python",
   "nbconvert_exporter": "python",
   "pygments_lexer": "ipython3",
   "version": "3.12.6"
  }
 },
 "nbformat": 4,
 "nbformat_minor": 4
}
